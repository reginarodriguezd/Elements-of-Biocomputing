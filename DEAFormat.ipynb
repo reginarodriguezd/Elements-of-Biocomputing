{
 "cells": [
  {
   "cell_type": "code",
   "execution_count": 2,
   "id": "acdc1eb0",
   "metadata": {},
   "outputs": [
    {
     "name": "stdout",
     "output_type": "stream",
     "text": [
      "Matrix saved as expression_matrix.txt with shape: (20380, 889)\n"
     ]
    }
   ],
   "source": [
    "import pandas as pd\n",
    "\n",
    "# Load only needed columns (0 = SampleID, 1 = GeneID, 5 = Expression)\n",
    "df = pd.read_csv(\"data/TCGA-BRCA-gitoolsweb-data.txt\", sep=\"\\t\", usecols=[0, 1, 5])\n",
    "\n",
    "# Rename columns for clarity\n",
    "df.columns = [\"SampleID\", \"GeneID\", \"Expression\"]\n",
    "\n",
    "# Pivot into matrix: rows = genes, columns = samples\n",
    "mat = df.pivot(index=\"GeneID\", columns=\"SampleID\", values=\"Expression\")\n",
    "\n",
    "# Replace missing values with 0 (optional)\n",
    "mat = mat.fillna(0)\n",
    "\n",
    "# Save as tab-delimited txt\n",
    "mat.to_csv(\"expression_dataclean.txt\", sep=\"\\t\")\n",
    "\n",
    "print(\"Matrix saved as expression_matrix.txt with shape:\", mat.shape)\n"
   ]
  },
  {
   "cell_type": "code",
   "execution_count": 3,
   "id": "697b79cd",
   "metadata": {},
   "outputs": [
    {
     "name": "stdout",
     "output_type": "stream",
     "text": [
      "Table saved as PIK3CA_mutation_status.txt with shape: (843, 2)\n"
     ]
    },
    {
     "name": "stderr",
     "output_type": "stream",
     "text": [
      "C:\\Users\\pable\\AppData\\Local\\Temp\\ipykernel_16740\\646215185.py:13: SettingWithCopyWarning: \n",
      "A value is trying to be set on a copy of a slice from a DataFrame.\n",
      "Try using .loc[row_indexer,col_indexer] = value instead\n",
      "\n",
      "See the caveats in the documentation: https://pandas.pydata.org/pandas-docs/stable/user_guide/indexing.html#returning-a-view-versus-a-copy\n",
      "  pik3ca[\"PIK3CA_mutated\"] = pik3ca[\"Mutation\"].map(lambda x: \"Yes\" if str(x) == \"1\" else \"No\")\n"
     ]
    }
   ],
   "source": [
    "import pandas as pd\n",
    "\n",
    "# Load only necessary columns (0 = SampleID, 1 = GeneID, 3 = MutationFlag)\n",
    "df = pd.read_csv(\"data/TCGA-BRCA-gitoolsweb-data.txt\", sep=\"\\t\", usecols=[0, 1, 3])\n",
    "\n",
    "# Rename columns for clarity\n",
    "df.columns = [\"SampleID\", \"GeneID\", \"Mutation\"]\n",
    "\n",
    "# Filter only PIK3CA rows\n",
    "pik3ca = df[df[\"GeneID\"] == \"PIK3CA\"]\n",
    "\n",
    "# Map \"-\" → \"No\", \"1\" → \"Yes\"\n",
    "pik3ca[\"PIK3CA_mutated\"] = pik3ca[\"Mutation\"].map(lambda x: \"Yes\" if str(x) == \"1\" else \"No\")\n",
    "\n",
    "# Keep only sample ID and result\n",
    "result = pik3ca[[\"SampleID\", \"PIK3CA_mutated\"]]\n",
    "\n",
    "# Save as tab-delimited txt\n",
    "result.to_csv(\"PIK3CA_mutation_status.txt\", sep=\"\\t\", index=False)\n",
    "\n",
    "print(\"Table saved as PIK3CA_mutation_status.txt with shape:\", result.shape)\n"
   ]
  },
  {
   "cell_type": "code",
   "execution_count": 4,
   "id": "ad47656d",
   "metadata": {},
   "outputs": [
    {
     "name": "stdout",
     "output_type": "stream",
     "text": [
      "New table saved as selected_pvalues.txt with shape: (20377, 4)\n"
     ]
    }
   ],
   "source": [
    "import pandas as pd\n",
    "\n",
    "# Load the file\n",
    "df = pd.read_csv(\"data/PIK3CA_mutated_Group_Comparison-results-1-data.txt\", sep=\"\\t\", header=0)\n",
    "\n",
    "# Select the desired columns by their positions (0-based) or by name\n",
    "# Using positions: 1=B, 6=G, 7=H, 8=I\n",
    "new_df = df.iloc[:, [1, 6, 7, 8]]\n",
    "\n",
    "# Optionally, rename columns for clarity\n",
    "new_df.columns = [\"GeneID\", \"Corrected_Left_P\", \"Corrected_Right_P\", \"Corrected_2Tail_P\"]\n",
    "\n",
    "# Save to a new tab-delimited txt file\n",
    "new_df.to_csv(\"results_pvalues.txt\", sep=\"\\t\", index=False)\n",
    "\n",
    "print(\"New table saved as selected_pvalues.txt with shape:\", new_df.shape)\n"
   ]
  },
  {
   "cell_type": "code",
   "execution_count": 8,
   "id": "592993a6",
   "metadata": {},
   "outputs": [
    {
     "name": "stdout",
     "output_type": "stream",
     "text": [
      "Number of over-expressed genes in mutated PIK3CA tumors: 2794\n",
      "Number of under-expressed genes in mutated PIK3CA tumors: 3366\n"
     ]
    }
   ],
   "source": [
    "import pandas as pd\n",
    "\n",
    "# Load the table\n",
    "df = pd.read_csv(\"data/results_pvalues.txt\", sep=\"\\t\")\n",
    "\n",
    "# Convert p-value columns to numeric (handles scientific notation)\n",
    "df[\"Corrected_Right_P\"] = pd.to_numeric(df[\"Corrected_Right_P\"], errors=\"coerce\")\n",
    "df[\"Corrected_Left_P\"] = pd.to_numeric(df[\"Corrected_Left_P\"], errors=\"coerce\")\n",
    "\n",
    "# Set significance threshold\n",
    "alpha = 0.05\n",
    "\n",
    "# Count over-expressed genes (right-tail p-value < alpha)\n",
    "over_expressed = (df[\"Corrected_Right_P\"] < alpha).sum()\n",
    "\n",
    "# Count under-expressed genes (left-tail p-value < alpha)\n",
    "under_expressed = (df[\"Corrected_Left_P\"] < alpha).sum()\n",
    "\n",
    "print(\"Number of over-expressed genes in mutated PIK3CA tumors:\", over_expressed)\n",
    "print(\"Number of under-expressed genes in mutated PIK3CA tumors:\", under_expressed)\n",
    "\n"
   ]
  },
  {
   "cell_type": "code",
   "execution_count": 1,
   "id": "2553cc83",
   "metadata": {},
   "outputs": [
    {
     "name": "stdout",
     "output_type": "stream",
     "text": [
      "Top 100 genes saved to top100_genes.txt\n"
     ]
    }
   ],
   "source": [
    "import pandas as pd\n",
    "import gseapy as gp\n",
    "import matplotlib.pyplot as plt\n",
    "import seaborn as sns\n",
    "\n",
    "# Load DE table\n",
    "df = pd.read_csv(\"data/results_pvalues.txt\", sep=\"\\t\")\n",
    "\n",
    "# Convert 2-tailed p-values to numeric (scientific notation handled)\n",
    "df[\"Corrected_2Tail_P\"] = pd.to_numeric(df[\"Corrected_2Tail_P\"], errors=\"coerce\")\n",
    "\n",
    "# Sort by p-value ascending and take top 100\n",
    "top_genes = df.sort_values(\"Corrected_2Tail_P\").head(100)\n",
    "\n",
    "# Get gene list\n",
    "gene_list = top_genes[\"GeneID\"].tolist()\n",
    "\n",
    "top_genes[\"GeneID\"].to_csv(\"top100_genes.txt\", index=False, header=False)\n",
    "\n",
    "print(\"Top 100 genes saved to top100_genes.txt\")\n",
    "\n",
    "\n",
    "# GO Biological Process enrichment\n",
    "go_enrich = gp.enrichr(gene_list=gene_list,\n",
    "                       gene_sets=['GO_Biological_Process_2021'], \n",
    "                       organism='Human',  # or 'Mouse'\n",
    "                       outdir='GO_results',  # output folder\n",
    "                       cutoff=0.05)  # adjusted p-value cutoff\n",
    "\n",
    "# KEGG pathway enrichment\n",
    "kegg_enrich = gp.enrichr(gene_list=gene_list,\n",
    "                         gene_sets=['KEGG_2021_Human'],\n",
    "                         organism='Human',\n",
    "                         outdir='KEGG_results',\n",
    "                         cutoff=0.05)\n",
    "\n",
    "# TF enrichment\n",
    "tf_enrich = gp.enrichr(gene_list=gene_list,\n",
    "                       gene_sets=['ChEA_2022'],\n",
    "                       organism='Human',\n",
    "                       outdir='TF_results',\n",
    "                       cutoff=0.05)\n",
    "\n",
    "\n",
    "\n",
    "\n"
   ]
  }
 ],
 "metadata": {
  "kernelspec": {
   "display_name": "Python 3",
   "language": "python",
   "name": "python3"
  },
  "language_info": {
   "codemirror_mode": {
    "name": "ipython",
    "version": 3
   },
   "file_extension": ".py",
   "mimetype": "text/x-python",
   "name": "python",
   "nbconvert_exporter": "python",
   "pygments_lexer": "ipython3",
   "version": "3.10.7"
  }
 },
 "nbformat": 4,
 "nbformat_minor": 5
}
